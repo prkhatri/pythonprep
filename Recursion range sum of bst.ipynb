{
 "cells": [
  {
   "cell_type": "markdown",
   "metadata": {},
   "source": [
    "Binary search tree \n",
    "\n",
    "Given the root node of a binary search tree, return the sum of values of all nodes with a value in the range [low, high].\n",
    "\n",
    "source: https://leetcode.com/problems/range-sum-of-bst/\n"
   ]
  },
  {
   "cell_type": "code",
   "execution_count": 1,
   "metadata": {},
   "outputs": [],
   "source": [
    "# Definition for a binary tree node.\n",
    "class TreeNode:\n",
    "    def __init__(self, val=0, left=None, right=None):\n",
    "        self.val = val\n",
    "        self.left = left\n",
    "        self.right = right\n",
    "        \n",
    "class Solution:\n",
    "    def rangeSumBST(self, root: TreeNode, low: int, high: int) -> int:\n",
    "        if root==None:\n",
    "            return 0\n",
    "        else:\n",
    "            left = root.left\n",
    "            right = root.right\n",
    "            value = 0\n",
    "            if root.val and low<=root.val<=high:\n",
    "                value = root.val\n",
    "            return value+self.rangeSumBST(left, low, high )+self.rangeSumBST(right, low, high )"
   ]
  },
  {
   "cell_type": "code",
   "execution_count": 2,
   "metadata": {},
   "outputs": [],
   "source": [
    "# list2 = [10,5,15,3,7,None,18]\n",
    "# listtree =[TreeNode(each) for each in list2]\n",
    "# j = 1\n",
    "# for each in listtree:\n",
    "#     if j==len(listtree):\n",
    "#         break\n",
    "#     each.left = listtree[j]\n",
    "#     each.right = listtree[j+1]\n",
    "#     j =j+2\n",
    "    \n",
    "    \n",
    "# s = Solution()\n",
    "# s.rangeSumBST(listtree[0],7,15 )\n"
   ]
  }
 ],
 "metadata": {
  "kernelspec": {
   "display_name": "Python 3",
   "language": "python",
   "name": "python3"
  },
  "language_info": {
   "codemirror_mode": {
    "name": "ipython",
    "version": 3
   },
   "file_extension": ".py",
   "mimetype": "text/x-python",
   "name": "python",
   "nbconvert_exporter": "python",
   "pygments_lexer": "ipython3",
   "version": "3.7.4"
  }
 },
 "nbformat": 4,
 "nbformat_minor": 2
}
