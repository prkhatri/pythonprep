{
 "cells": [
  {
   "cell_type": "markdown",
   "metadata": {},
   "source": [
    "### Stock Spanner\n",
    "\n",
    "https://leetcode.com/problems/online-stock-span/"
   ]
  },
  {
   "cell_type": "code",
   "execution_count": 1,
   "metadata": {},
   "outputs": [],
   "source": [
    "class StockSpanner:\n",
    "\n",
    "    def __init__(self):\n",
    "        self.stack = []        \n",
    "\n",
    "    def next(self, price: int) -> int:\n",
    "        '''Push every pair of ( price, span) into the '''\n",
    "        count = 1\n",
    "        while self.stack and self.stack[-1][0]<=price:\n",
    "            span= self.stack.pop()\n",
    "            count = count+span[1]\n",
    "        self.stack.append((price, count))\n",
    "        return count\n",
    "\n",
    "\n",
    "# Your StockSpanner object will be instantiated and called as such:\n",
    "# obj = StockSpanner()\n",
    "# param_1 = obj.next(3)"
   ]
  }
 ],
 "metadata": {
  "kernelspec": {
   "display_name": "Python 3",
   "language": "python",
   "name": "python3"
  },
  "language_info": {
   "codemirror_mode": {
    "name": "ipython",
    "version": 3
   },
   "file_extension": ".py",
   "mimetype": "text/x-python",
   "name": "python",
   "nbconvert_exporter": "python",
   "pygments_lexer": "ipython3",
   "version": "3.7.4"
  }
 },
 "nbformat": 4,
 "nbformat_minor": 2
}
