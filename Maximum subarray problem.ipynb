{
 "cells": [
  {
   "cell_type": "markdown",
   "metadata": {},
   "source": [
    "Maximum Subarray (DP Problem): Given an integer array nums, find the contiguous subarray (containing at least one number) which has the largest sum and return its sum. \n",
    "\n",
    "Source: https://leetcode.com/problems/maximum-subarray/"
   ]
  },
  {
   "cell_type": "code",
   "execution_count": 4,
   "metadata": {},
   "outputs": [],
   "source": [
    "class Solution:\n",
    "    '''\n",
    "    created a list dps to keep the track of maximum sum at a given index\n",
    "    Max sum at a given index= max(dps[i-1]+nums[i],nums[i])\n",
    "    finally the maximum element in dps list would be the largest sum\n",
    "    '''\n",
    "    def maxSubArray(self, nums):\n",
    "        dps = [0]*len(nums)\n",
    "        dps[0]=nums[0]\n",
    "        for i in range(1,len(nums)):\n",
    "            dps[i] = max(dps[i-1]+nums[i], nums[i])\n",
    "        return max(dps)"
   ]
  },
  {
   "cell_type": "code",
   "execution_count": 5,
   "metadata": {},
   "outputs": [
    {
     "data": {
      "text/plain": [
       "6"
      ]
     },
     "execution_count": 5,
     "metadata": {},
     "output_type": "execute_result"
    }
   ],
   "source": [
    "s = Solution()\n",
    "s.maxSubArray([-2,1,-3,4,-1,2,1,-5,4])"
   ]
  }
 ],
 "metadata": {
  "kernelspec": {
   "display_name": "Python 3",
   "language": "python",
   "name": "python3"
  },
  "language_info": {
   "codemirror_mode": {
    "name": "ipython",
    "version": 3
   },
   "file_extension": ".py",
   "mimetype": "text/x-python",
   "name": "python",
   "nbconvert_exporter": "python",
   "pygments_lexer": "ipython3",
   "version": "3.7.4"
  }
 },
 "nbformat": 4,
 "nbformat_minor": 2
}
