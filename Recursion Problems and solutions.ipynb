{
 "cells": [
  {
   "cell_type": "markdown",
   "metadata": {},
   "source": [
    "### Recursive approach to drawing an English ruler\n",
    "\n",
    "An interval with a central tick of L>=1 is composed of:\n",
    "\n",
    "An interval with a central tick length L-1\n",
    "\n",
    "A single tick of Length L\n",
    "\n",
    "An interval with a central tick length L-1\n"
   ]
  },
  {
   "cell_type": "code",
   "execution_count": 1,
   "metadata": {},
   "outputs": [
    {
     "name": "stdout",
     "output_type": "stream",
     "text": [
      "----\n",
      "-\n",
      "--\n",
      "-\n",
      "---\n",
      "-\n",
      "--\n",
      "-\n",
      "----\n",
      "-\n",
      "--\n",
      "-\n",
      "---\n",
      "-\n",
      "--\n",
      "-\n",
      "----\n"
     ]
    }
   ],
   "source": [
    "def drawInterval(n):\n",
    "    if n>0:\n",
    "        drawInterval(n-1)\n",
    "        drawLine(n)\n",
    "        drawInterval(n-1)\n",
    "\n",
    "def drawLine(n):\n",
    "    if n>0:\n",
    "        print(\"-\"*n)\n",
    "\n",
    "def drawRuler( inches, ticksize ):\n",
    "    drawLine(ticksize)\n",
    "    for inch in range(1,inches+1):\n",
    "        drawInterval(ticksize-1)\n",
    "        drawLine(ticksize)\n",
    "\n",
    "drawRuler(2,4)"
   ]
  },
  {
   "cell_type": "markdown",
   "metadata": {},
   "source": [
    "### Binary Search\n",
    "\n",
    "if target == data[\"mid\"], found the target\n",
    "\n",
    "if target<data[\"mid\"], search in the first half\n",
    "\n",
    "if target>data[\"mid\"], search in the next half"
   ]
  },
  {
   "cell_type": "code",
   "execution_count": 12,
   "metadata": {},
   "outputs": [
    {
     "name": "stdout",
     "output_type": "stream",
     "text": [
      "20\n"
     ]
    }
   ],
   "source": [
    "def binarySearch( data, target, low, high ):\n",
    "    if low>high:\n",
    "        return\n",
    "    else:\n",
    "        mid = int((low+high)/2)\n",
    "        if data[mid]>target:\n",
    "            return binarySearch(data, target, low, mid-1)\n",
    "        elif data[mid]<target:\n",
    "            return binarySearch(data, target, mid+1, high)\n",
    "        else:\n",
    "            return target\n",
    "print(binarySearch([2,3,15,20,100], 20, 0, 4))"
   ]
  },
  {
   "cell_type": "markdown",
   "metadata": {},
   "source": [
    "### Linear Recursion\n",
    "It can be helpful in processing a data sequence below is the example of summing a sequence using linear recursion"
   ]
  },
  {
   "cell_type": "code",
   "execution_count": 15,
   "metadata": {},
   "outputs": [
    {
     "data": {
      "text/plain": [
       "6"
      ]
     },
     "execution_count": 15,
     "metadata": {},
     "output_type": "execute_result"
    }
   ],
   "source": [
    "def sumNos( data, n):\n",
    "    if n == len(data):\n",
    "        return 0\n",
    "    else:\n",
    "        return data[n]+sumNos( data, n+1 )\n",
    "sumNos([1,2,3],0)"
   ]
  },
  {
   "cell_type": "markdown",
   "metadata": {},
   "source": [
    "### Binary Recursion"
   ]
  },
  {
   "cell_type": "markdown",
   "metadata": {},
   "source": [
    "Binary recursive version of the same code as above"
   ]
  },
  {
   "cell_type": "code",
   "execution_count": 33,
   "metadata": {},
   "outputs": [
    {
     "data": {
      "text/plain": [
       "6"
      ]
     },
     "execution_count": 33,
     "metadata": {},
     "output_type": "execute_result"
    }
   ],
   "source": [
    "def sumNos_bi( data, low, high ):\n",
    "    if low>high:\n",
    "        return 0\n",
    "    elif low==high-1:\n",
    "        return data[low]\n",
    "    else:\n",
    "        mid =  (low+high)//2\n",
    "        return sumNos_bi(data, low, mid)+sumNos_bi(data,mid, high )\n",
    "sumNos_bi([1,2,3],0, len([1,2,3]))"
   ]
  }
 ],
 "metadata": {
  "kernelspec": {
   "display_name": "Python 3",
   "language": "python",
   "name": "python3"
  },
  "language_info": {
   "codemirror_mode": {
    "name": "ipython",
    "version": 3
   },
   "file_extension": ".py",
   "mimetype": "text/x-python",
   "name": "python",
   "nbconvert_exporter": "python",
   "pygments_lexer": "ipython3",
   "version": "3.7.4"
  }
 },
 "nbformat": 4,
 "nbformat_minor": 2
}
